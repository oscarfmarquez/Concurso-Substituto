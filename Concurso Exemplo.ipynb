{
 "cells": [
  {
   "cell_type": "code",
   "execution_count": 1,
   "metadata": {},
   "outputs": [],
   "source": [
    "import datetime\n",
    "import random\n",
    "from IPython.core.interactiveshell import InteractiveShell\n",
    "InteractiveShell.ast_node_interactivity = \"all\"             #Shift+Enter"
   ]
  },
  {
   "cell_type": "code",
   "execution_count": 2,
   "metadata": {},
   "outputs": [],
   "source": [
    "arquivolog = open(\"logconcurso.txt\", \"w\") \n",
    "arquivolog.close()\n",
    "\n",
    "\n",
    "\n",
    "def sorteio():\n",
    "    '''Esta função não possui parámetros. \n",
    "    Escolhe um candidato de uma lista dada chamada CandidatosNaoSorteados. \n",
    "    Depois escolhe um tema de uma lista de temas dados chamado TemasNaoSorteados.\n",
    "    Adiciona à lista ProvasSorteadas o primeiro Horário disponível, o tema escolhido e o candidato escolhido.\n",
    "    Depois elimina o nome do candidato escolhido da lista de Candidatos, e elimina o nome do tema da lista de TemasNaoSorteados'''\n",
    "    CandidatoEscolhido=random.choice(CandidatosNaoSorteados)\n",
    "    TemaEscolhido=random.choice(TemasNaoSorteados)\n",
    "\n",
    "    ProvasSorteadas.append([Horarios[0],CandidatoEscolhido,TemaEscolhido[1]])\n",
    "    TemasNaoSorteados.remove(TemaEscolhido)\n",
    "    CandidatosNaoSorteados.remove(CandidatoEscolhido)\n",
    "\n",
    "    print(f' Candidato Escolhido: \\033[1m {CandidatoEscolhido}   \\033[0m') \n",
    "    print(f' Tema Escolhido:  \\033[1m {TemaEscolhido[1]}  \\033[0m')\n",
    "    print(f' Horário da prova didatica:  \\033[1m {Horarios.pop(0)}  \\033[0m\\n\\n')\n",
    "\n",
    "\n",
    "    print(f'Candidatos já sorteados  para a prova didática:')\n",
    "    for x in ProvasSorteadas: print(x)\n",
    "    print(f'\\n Candidatos ainda não sorteados para a prova didática:\\n')\n",
    "    for x in CandidatosNaoSorteados: print(x)\n",
    "\n",
    "    arquivolog = open(\"logconcurso.txt\", \"a\")\n",
    "    arquivolog.write(f'Hora: {datetime.datetime.now()}\\n \\t Candidatos que já foram sorteados:\\n\\t {ProvasSorteadas}\\n\\n')\n",
    "    arquivolog.write(f'\\t Candidatos que ainda não foram sorteados didática:\\n\\t {CandidatosNaoSorteados}\\n\\n')\n",
    "    arquivolog.write(f'\\t Temas ainda não sorteados:\\n\\t {TemasNaoSorteados}\\n\\n\\n') \n",
    "    arquivolog.close()\n"
   ]
  },
  {
   "cell_type": "markdown",
   "metadata": {},
   "source": [
    "## Candidatos, Temas, Horários"
   ]
  },
  {
   "cell_type": "code",
   "execution_count": 3,
   "metadata": {},
   "outputs": [],
   "source": [
    "CandidatosNaoSorteados=[ \"Anita\",  \n",
    "            \"Edson Arantes do Nascimento\",  \n",
    " \"Diego Maradona\",  \n",
    " \"Neymar Jr\",  \n",
    " \"Ivete Sangalo\",  \n",
    " \"Zico\",  \n",
    " \"Ronaldinho Gaucho\",  \n",
    " \"Ronaldo Nazario\",\n",
    " \"Elis Regina\",  \n",
    " ];\n",
    "\n",
    "\n",
    "TemasNaoSorteados=[[1, \"Aguas de Março\"], \n",
    " [2, \"Ai se eu te pego\"],\n",
    " [3,\"Boate Azul\"],\n",
    " [4, \"Trem das Onze\"], \n",
    " [5, \"Velha Infância\"], \n",
    " [6, \"Lepo Lepo\"], \n",
    " [7, \"Chega de Saudade\"], \n",
    " [8, \"O tempo não\"],\n",
    "]\n",
    "\n",
    "Horarios=[\"24/11  8:00\", \"24/11  9:00\", \"24/11  10:00\", \"24/11  11:00\", \"24/11  14:00\", \"24/11  15:00\", \"24/11  16:00\",\n",
    " \"24/11  17:00\", \"24/11  18:00\", \"25/11  8:00\", \"25/11  9:00\", \"25/11  10:00\", \"25/11  11:00\", \"25/11  14:00\",\n",
    " \"25/11  15:00\", \"25/11  16:00\", \"25/11  17:00\", \"25/11  18:00\", \"26/11  8:00\", \"26/11  9:00\", \"26/11  10:00\",\n",
    " \"26/11  11:00\", \"26/11  14:00\", \"26/11  15:00\", \"26/11  16:00\", \"26/11  17:00\", \"26/11  18:00\", \"27/11  8:00\",\n",
    " \"27/11  9:00\"]\n",
    "\n",
    "\n",
    "ProvasSorteadas = []\n",
    "\n"
   ]
  },
  {
   "cell_type": "code",
   "execution_count": null,
   "metadata": {},
   "outputs": [],
   "source": [
    "    "
   ]
  },
  {
   "cell_type": "markdown",
   "metadata": {},
   "source": [
    "#  <span style=\"color:blue\"> Sorteios segunda-feira  23/20  </span> "
   ]
  },
  {
   "cell_type": "markdown",
   "metadata": {},
   "source": [
    "### 23/20  08:00 Sorteio do ponto para a   <span style=\"color:red\">primeira</span>  prova didática"
   ]
  },
  {
   "cell_type": "code",
   "execution_count": 4,
   "metadata": {
    "scrolled": false
   },
   "outputs": [
    {
     "name": "stdout",
     "output_type": "stream",
     "text": [
      " Candidato Escolhido: \u001b[1m Ronaldo Nazario   \u001b[0m\n",
      " Tema Escolhido:  \u001b[1m Trem das Onze  \u001b[0m\n",
      " Horário da prova didatica:  \u001b[1m 24/11  8:00  \u001b[0m\n",
      "\n",
      "\n",
      "Candidatos já sorteados  para a prova didática:\n",
      "['24/11  8:00', 'Ronaldo Nazario', 'Trem das Onze']\n",
      "\n",
      " Candidatos ainda não sorteados para a prova didática:\n",
      "\n",
      "Anita\n",
      "Edson Arantes do Nascimento\n",
      "Diego Maradona\n",
      "Neymar Jr\n",
      "Ivete Sangalo\n",
      "Zico\n",
      "Ronaldinho Gaucho\n",
      "Elis Regina\n"
     ]
    }
   ],
   "source": [
    "sorteio()"
   ]
  },
  {
   "cell_type": "markdown",
   "metadata": {},
   "source": [
    "### 23/20  09:00 Sorteio do ponto para a   <span style=\"color:red\">segunda</span>  prova didática"
   ]
  },
  {
   "cell_type": "code",
   "execution_count": 5,
   "metadata": {},
   "outputs": [
    {
     "name": "stdout",
     "output_type": "stream",
     "text": [
      " Candidato Escolhido: \u001b[1m Ronaldinho Gaucho   \u001b[0m\n",
      " Tema Escolhido:  \u001b[1m Ai se eu te pego  \u001b[0m\n",
      " Horário da prova didatica:  \u001b[1m 24/11  9:00  \u001b[0m\n",
      "\n",
      "\n",
      "Candidatos já sorteados  para a prova didática:\n",
      "['24/11  8:00', 'Ronaldo Nazario', 'Trem das Onze']\n",
      "['24/11  9:00', 'Ronaldinho Gaucho', 'Ai se eu te pego']\n",
      "\n",
      " Candidatos ainda não sorteados para a prova didática:\n",
      "\n",
      "Anita\n",
      "Edson Arantes do Nascimento\n",
      "Diego Maradona\n",
      "Neymar Jr\n",
      "Ivete Sangalo\n",
      "Zico\n",
      "Elis Regina\n"
     ]
    }
   ],
   "source": [
    "sorteio()"
   ]
  },
  {
   "cell_type": "markdown",
   "metadata": {},
   "source": [
    "### 23/20  10:00 Sorteio do ponto para a  <span style=\"color:red\">terceira</span>  prova didática"
   ]
  },
  {
   "cell_type": "code",
   "execution_count": 6,
   "metadata": {},
   "outputs": [
    {
     "name": "stdout",
     "output_type": "stream",
     "text": [
      " Candidato Escolhido: \u001b[1m Edson Arantes do Nascimento   \u001b[0m\n",
      " Tema Escolhido:  \u001b[1m Lepo Lepo  \u001b[0m\n",
      " Horário da prova didatica:  \u001b[1m 24/11  10:00  \u001b[0m\n",
      "\n",
      "\n",
      "Candidatos já sorteados  para a prova didática:\n",
      "['24/11  8:00', 'Ronaldo Nazario', 'Trem das Onze']\n",
      "['24/11  9:00', 'Ronaldinho Gaucho', 'Ai se eu te pego']\n",
      "['24/11  10:00', 'Edson Arantes do Nascimento', 'Lepo Lepo']\n",
      "\n",
      " Candidatos ainda não sorteados para a prova didática:\n",
      "\n",
      "Anita\n",
      "Diego Maradona\n",
      "Neymar Jr\n",
      "Ivete Sangalo\n",
      "Zico\n",
      "Elis Regina\n"
     ]
    }
   ],
   "source": [
    "sorteio()"
   ]
  },
  {
   "cell_type": "markdown",
   "metadata": {},
   "source": [
    "### 23/20  11:00 Sorteio do ponto para a  <span style=\"color:red\"> quarta</span>  prova didática"
   ]
  },
  {
   "cell_type": "code",
   "execution_count": 7,
   "metadata": {
    "scrolled": true
   },
   "outputs": [
    {
     "name": "stdout",
     "output_type": "stream",
     "text": [
      " Candidato Escolhido: \u001b[1m Ivete Sangalo   \u001b[0m\n",
      " Tema Escolhido:  \u001b[1m Chega de Saudade  \u001b[0m\n",
      " Horário da prova didatica:  \u001b[1m 24/11  11:00  \u001b[0m\n",
      "\n",
      "\n",
      "Candidatos já sorteados  para a prova didática:\n",
      "['24/11  8:00', 'Ronaldo Nazario', 'Trem das Onze']\n",
      "['24/11  9:00', 'Ronaldinho Gaucho', 'Ai se eu te pego']\n",
      "['24/11  10:00', 'Edson Arantes do Nascimento', 'Lepo Lepo']\n",
      "['24/11  11:00', 'Ivete Sangalo', 'Chega de Saudade']\n",
      "\n",
      " Candidatos ainda não sorteados para a prova didática:\n",
      "\n",
      "Anita\n",
      "Diego Maradona\n",
      "Neymar Jr\n",
      "Zico\n",
      "Elis Regina\n"
     ]
    }
   ],
   "source": [
    "sorteio()"
   ]
  },
  {
   "cell_type": "code",
   "execution_count": null,
   "metadata": {},
   "outputs": [],
   "source": []
  },
  {
   "cell_type": "code",
   "execution_count": null,
   "metadata": {},
   "outputs": [],
   "source": []
  },
  {
   "cell_type": "code",
   "execution_count": null,
   "metadata": {},
   "outputs": [],
   "source": []
  }
 ],
 "metadata": {
  "kernelspec": {
   "display_name": "Python 3",
   "language": "python",
   "name": "python3"
  },
  "language_info": {
   "codemirror_mode": {
    "name": "ipython",
    "version": 3
   },
   "file_extension": ".py",
   "mimetype": "text/x-python",
   "name": "python",
   "nbconvert_exporter": "python",
   "pygments_lexer": "ipython3",
   "version": "3.8.3"
  }
 },
 "nbformat": 4,
 "nbformat_minor": 4
}
